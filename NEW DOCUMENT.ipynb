{
 "cells": [
  {
   "cell_type": "markdown",
   "id": "f9498116-9d79-42e9-8af0-76acc04db070",
   "metadata": {},
   "source": [
    "A NEW DOCUMENT FROM KAI"
   ]
  },
  {
   "cell_type": "code",
   "execution_count": null,
   "id": "46d51367-345c-4b9a-93c0-71d9e034a282",
   "metadata": {},
   "outputs": [],
   "source": []
  }
 ],
 "metadata": {
  "kernelspec": {
   "display_name": "R",
   "language": "R",
   "name": "ir"
  },
  "language_info": {
   "codemirror_mode": "r",
   "file_extension": ".r",
   "mimetype": "text/x-r-source",
   "name": "R",
   "pygments_lexer": "r",
   "version": "4.1.3"
  }
 },
 "nbformat": 4,
 "nbformat_minor": 5
}
